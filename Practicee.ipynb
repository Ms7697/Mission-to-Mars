{
 "cells": [
  {
   "cell_type": "code",
   "execution_count": null,
   "metadata": {},
   "outputs": [],
   "source": [
    "from selenium import webdriver\n",
    "driver = webdriver.Chrome()\n",
    "driver.get(\"https://www.nytimes.com\")\n",
    "headlines = driver.find_elements_by_class_name(\"story-heading\")\n",
    "for headline in headlines:\n",
    "    print(headline.text.strip())"
   ]
  }
 ],
 "metadata": {
  "kernelspec": {
   "display_name": "Python 3.7.6 64-bit",
   "language": "python",
   "name": "python3"
  },
  "language_info": {
   "name": "python",
   "version": "3.7.6"
  },
  "orig_nbformat": 4,
  "vscode": {
   "interpreter": {
    "hash": "34c77c1e228cd3fdfe47cd6df22f31bf4f39fa38b8673000dd8574fd28b2f17b"
   }
  }
 },
 "nbformat": 4,
 "nbformat_minor": 2
}
